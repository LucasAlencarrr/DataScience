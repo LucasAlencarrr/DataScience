{
  "nbformat": 4,
  "nbformat_minor": 0,
  "metadata": {
    "colab": {
      "provenance": []
    },
    "kernelspec": {
      "name": "python3",
      "display_name": "Python 3"
    },
    "language_info": {
      "name": "python"
    }
  },
  "cells": [
    {
      "cell_type": "markdown",
      "source": [
        "# O número médio de clientes que entram em uma padaria por hora é igual a 20. Obtenha a probabilidade de, na próxima hora, entrarem exatamente 25 clientes."
      ],
      "metadata": {
        "id": "fhqWd9bB4RFg"
      }
    },
    {
      "cell_type": "code",
      "execution_count": null,
      "metadata": {
        "colab": {
          "base_uri": "https://localhost:8080/"
        },
        "id": "2cg078DQ3svr",
        "outputId": "7aaedbf8-6566-4f0e-e336-7f6864abfdfa"
      },
      "outputs": [
        {
          "output_type": "stream",
          "name": "stdout",
          "text": [
            "0.04458765\n"
          ]
        }
      ],
      "source": [
        "import numpy as np\n",
        "from scipy.stats import poisson\n",
        "\n",
        "media = 20\n",
        "\n",
        "k = 25\n",
        "\n",
        "\n",
        "\n",
        "probabilidade = poisson.pmf(k, media)\n",
        "print('%0.8f' % probabilidade)"
      ]
    },
    {
      "cell_type": "code",
      "source": [],
      "metadata": {
        "id": "C3gb8j8x35ND"
      },
      "execution_count": null,
      "outputs": []
    }
  ]
}